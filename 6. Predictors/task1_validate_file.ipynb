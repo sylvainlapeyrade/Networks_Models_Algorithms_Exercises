{
 "nbformat": 4,
 "nbformat_minor": 2,
 "metadata": {
  "language_info": {
   "name": "python",
   "codemirror_mode": {
    "name": "ipython",
    "version": 3
   },
   "version": "3.8.1-final"
  },
  "orig_nbformat": 2,
  "file_extension": ".py",
  "mimetype": "text/x-python",
  "name": "python",
  "npconvert_exporter": "python",
  "pygments_lexer": "ipython3",
  "version": 3,
  "kernelspec": {
   "name": "python38164bitc5fba3495b774b3e93b3cae291c2ea6f",
   "display_name": "Python 3.8.1 64-bit"
  }
 },
 "cells": [
  {
   "cell_type": "code",
   "execution_count": 14,
   "metadata": {},
   "outputs": [],
   "source": [
    "# Author: Sylvain Lapeyrade (sylla801)\n",
    "# File: TSKS11-Lab6\n",
    "\n",
    "from scipy import spatial\n"
   ]
  },
  {
   "cell_type": "code",
   "execution_count": 15,
   "metadata": {},
   "outputs": [],
   "source": [
    "# Validation data:\n",
    "# RMSE, training data = 0.886\n",
    "# RMSE, test data = 0.898\n",
    "train_file = './validate_code_netflix/validate_code.training'\n",
    "test_file = './validate_code_netflix/validate_code.test'\n",
    "movie_file = './validate_code_netflix/validate_code.moviename'\n",
    "\n",
    "# personal files => sylvainl\n",
    "train_file2 = './training/sylvainl.training'\n",
    "test_file2 = './test/sylvainl.test'\n",
    "movie_file2 = './test/sylvainl.moviename'\n",
    "\n",
    "# Task 2:\n",
    "train_file3 = './training/task---2.training'\n",
    "test_file3 = './test/task---2.test'\n",
    "movie_file3 = './test/task---2.moviename'"
   ]
  },
  {
   "cell_type": "code",
   "execution_count": 16,
   "metadata": {},
   "outputs": [
    {
     "name": "stdout",
     "output_type": "stream",
     "text": "Train edge list:\nUser, Movie, Rating\n[[   6    1    3]\n [  10    1    1]\n [  16    1    4]\n ...\n [1867 1500    3]\n [1887 1500    3]\n [1890 1500    4]]\n\nTrain size: 185850\nTraining users: 2000\nTraining movies: 1500\n\nTraining Matrix:\n [[0. 0. 0. ... 0. 0. 0.]\n [0. 4. 0. ... 0. 0. 0.]\n [0. 0. 0. ... 0. 3. 0.]\n ...\n [0. 4. 0. ... 0. 0. 0.]\n [0. 0. 0. ... 0. 0. 0.]\n [0. 0. 0. ... 0. 0. 0.]]\n"
    }
   ],
   "source": [
    "# *** TRAINING ***\n",
    "train_edge_list = np.loadtxt(train_file, delimiter=',', dtype=int)\n",
    "train_users, train_movies, train_ratings = (\n",
    "    train_edge_list[:, 0], train_edge_list[:, 1], train_edge_list[:, 2])\n",
    "\n",
    "print(\"Train edge list:\")\n",
    "print(\"User, Movie, Rating\")\n",
    "print(train_edge_list)\n",
    "\n",
    "train_size = len(train_edge_list)\n",
    "nr_train_users = max(train_users)\n",
    "nr_train_movies = max(train_movies)\n",
    "\n",
    "print(\"\\nTrain size: {}\".format(train_size))\n",
    "print(\"Training users: {}\".format(nr_train_users))\n",
    "print(\"Training movies: {}\".format(nr_train_movies))\n",
    "\n",
    "# Training matrix (A)\n",
    "train_matrix = np.zeros(shape=(nr_train_users, nr_train_movies))\n",
    "for user, movie, rating in zip(train_users, train_movies, train_ratings):\n",
    "    train_matrix[int(user)-1, int(movie)-1] = int(rating)  # -1\n",
    "\n",
    "print(\"\\nTraining Matrix:\\n {}\".format(train_matrix))"
   ]
  },
  {
   "cell_type": "code",
   "execution_count": 17,
   "metadata": {},
   "outputs": [
    {
     "name": "stdout",
     "output_type": "stream",
     "text": "Train Indices\nUser, Movie\n [[   5    0]\n [   9    0]\n [  15    0]\n ...\n [1866 1499]\n [1886 1499]\n [1889 1499]]\n"
    }
   ],
   "source": [
    "# TRAINING indices: Indices where an user rated a movie\n",
    "train_indices = np.transpose(np.nonzero(train_matrix))\n",
    "# Sort by movies then by users while keeping the stability\n",
    "train_indices = train_indices[train_indices[:, 0].argsort()]\n",
    "train_indices = train_indices[train_indices[:, 1].argsort(kind='mergesort')]\n",
    "\n",
    "print(\"Train Indices\")\n",
    "print(\"User, Movie\\n\", train_indices)"
   ]
  },
  {
   "cell_type": "code",
   "execution_count": 18,
   "metadata": {},
   "outputs": [
    {
     "name": "stdout",
     "output_type": "stream",
     "text": "Test edge list:\nUser, Movie, Rating\n[[   4    1    5]\n [  60    1    3]\n [ 134    1    4]\n ...\n [1139 1500    1]\n [1371 1500    4]\n [1923 1500    5]]\n\nTest size: 20651\nTesting users: 2000\nTesting movies: 1500\n\nTesting Matrix:\n [[0. 0. 0. ... 0. 0. 0.]\n [0. 0. 0. ... 0. 0. 0.]\n [0. 0. 0. ... 0. 0. 0.]\n ...\n [0. 0. 0. ... 0. 0. 0.]\n [0. 0. 0. ... 0. 0. 0.]\n [0. 0. 0. ... 0. 0. 0.]]\n"
    }
   ],
   "source": [
    "# *** TESTING ***\n",
    "test_edge_list = np.loadtxt(test_file, delimiter=',', dtype=int)\n",
    "test_users, test_movies, test_ratings = (\n",
    "    test_edge_list[:, 0], test_edge_list[:, 1], test_edge_list[:, 2])\n",
    "\n",
    "print(\"Test edge list:\")\n",
    "print(\"User, Movie, Rating\")\n",
    "print(test_edge_list)\n",
    "\n",
    "test_size = len(test_edge_list)\n",
    "nr_test_users = max(test_users)\n",
    "nr_test_movies = max(test_movies)\n",
    "\n",
    "print(\"\\nTest size: {}\".format(test_size))\n",
    "print(\"Testing users: {}\".format(nr_test_users))\n",
    "print(\"Testing movies: {}\".format(nr_test_movies))\n",
    "\n",
    "# Test matrix (A)\n",
    "test_matrix = np.zeros(shape=(nr_test_users, nr_test_movies))\n",
    "for u, m, r in zip(test_users, test_movies, test_ratings):\n",
    "    test_matrix[int(u) - 1, int(m) - 1] = int(r)  # -1\n",
    "\n",
    "print(\"\\nTesting Matrix:\\n {}\".format(test_matrix))"
   ]
  },
  {
   "cell_type": "code",
   "execution_count": 19,
   "metadata": {},
   "outputs": [
    {
     "name": "stdout",
     "output_type": "stream",
     "text": "Test Indices\nUser, Movie\n [[   3    0]\n [  59    0]\n [ 133    0]\n ...\n [1138 1499]\n [1370 1499]\n [1922 1499]]\n"
    }
   ],
   "source": [
    "# TESTING indices: Indices where an user rated a movie\n",
    "test_indices = np.transpose(np.nonzero(test_matrix))\n",
    "\n",
    "# Sort by movies then by users while keeping the stability\n",
    "test_indices = test_indices[test_indices[:, 0].argsort()]\n",
    "test_indices = test_indices[test_indices[:, 1].argsort(kind='mergesort')]\n",
    "\n",
    "print(\"Test Indices\")\n",
    "print(\"User, Movie\\n\", test_indices)"
   ]
  },
  {
   "cell_type": "code",
   "execution_count": 20,
   "metadata": {},
   "outputs": [
    {
     "name": "stdout",
     "output_type": "stream",
     "text": "Average Rating Training: 3.6066505246166263\n"
    }
   ],
   "source": [
    "# *** BASELINE PREDICTOR *** rum= ̄r+bU,u+bM,m\n",
    "# where bU,u and bM,m minimize the root mean-square error (RMSE)\n",
    "\n",
    "# ̄r: average rating over all users and movies\n",
    "average_rating = np.sum(train_matrix) / train_size\n",
    "print(\"Average Rating Training:\", average_rating)"
   ]
  },
  {
   "cell_type": "code",
   "execution_count": 21,
   "metadata": {},
   "outputs": [
    {
     "name": "stdout",
     "output_type": "stream",
     "text": "Bias user: [ 0.3164264   0.65650737  0.214245   ... -0.06818899  0.19890503\n -1.04820897]\n\nBias movie: [-0.42616272  0.24205796 -0.47621574 ... -0.66725659  0.10917681\n  0.58922576]\n"
    }
   ],
   "source": [
    "# TASK 0: *** SIMPLE BASELINE PREDICTOR ***\n",
    "\n",
    "# bU,u: bias of user u compared to the average ̄r\n",
    "bias_user = np.zeros(shape=nr_train_users)\n",
    "for user in range(nr_train_users):\n",
    "    bias_user[user] = (np.sum(train_matrix[user]) / np.count_nonzero(train_matrix[user])) - average_rating\n",
    "print(\"Bias user:\", bias_user)\n",
    "\n",
    "# bM,m: bias of movie m compared to the average ̄r\n",
    "bias_movie = np.zeros(shape=nr_train_movies)\n",
    "for movie in range(nr_train_movies):\n",
    "    bias_movie[movie] = (np.sum(train_matrix[:, movie]) / np.count_nonzero(train_matrix[:, movie])) - average_rating\n",
    "print(\"\\nBias movie:\", bias_movie)"
   ]
  },
  {
   "cell_type": "code",
   "execution_count": 22,
   "metadata": {},
   "outputs": [
    {
     "name": "stdout",
     "output_type": "stream",
     "text": "Simple baseline solution\nPredicted Training Ratings:\n [3.01243377 3.66686054 3.27195049 ... 3.65438867 4.42971656 4.30669788]\nActual Training Ratings:\n [3 1 4 ... 3 3 4]\n\nGradient Error Training: [-0.01243377 -2.66686054  0.72804951 ... -0.65438867 -1.42971656\n -0.30669788]\nAverage Gradient Error Training:\n 0.0021524344043788255\nRoot Squared Mean Error Training: 0.9113285879625816\n"
    }
   ],
   "source": [
    "# TRAINING rum: predicted rating for user u of movie m\n",
    "predicted_ratings_training = np.zeros(shape=train_size)\n",
    "\n",
    "i = 0\n",
    "for user, movie in train_indices:\n",
    "    predicted_ratings_training[i] = average_rating + bias_user[user] + bias_movie[movie]\n",
    "    i+=1 \n",
    "\n",
    "# Truncate predicted ratings by setting predictions that falls below 1 to 1\n",
    "#  and any prediction that exceeds 5 to 5\n",
    "predicted_ratings_training[predicted_ratings_training < 1] = 1\n",
    "predicted_ratings_training[predicted_ratings_training > 5] = 5\n",
    "\n",
    "print(\"Simple baseline solution\")\n",
    "print(\"Predicted Training Ratings:\\n\", predicted_ratings_training)\n",
    "print(\"Actual Training Ratings:\\n\", train_ratings)\n",
    "\n",
    "# TRAINING Root Mean Squared Error \n",
    "gradient_error_training = train_ratings - predicted_ratings_training\n",
    "print(\"\\nGradient Error Training:\", gradient_error_training)\n",
    "avg_gradient_error_training = np.mean(train_ratings - predicted_ratings_training)\n",
    "print(\"Average Gradient Error Training:\\n\", avg_gradient_error_training)\n",
    "rmse_training = math.sqrt(sum((train_ratings - predicted_ratings_training)**2) / train_size)\n",
    "print(\"Root Squared Mean Error Training:\", rmse_training)"
   ]
  },
  {
   "cell_type": "code",
   "execution_count": 23,
   "metadata": {},
   "outputs": [
    {
     "name": "stdout",
     "output_type": "stream",
     "text": "Simple baseline solution\nPredicted Testing Ratings:\n [3.77295232 1.80741392 3.35432509 ... 4.06422576 3.42584548 4.25589243]\nActual Testing Ratings:\n [5 3 4 ... 1 4 5]\n\nGradient Error Testing: [ 1.22704768  1.19258608  0.64567491 ... -3.06422576  0.57415452\n  0.74410757]\nAverage Gradient Error Testing:\n -0.0006655708384069903\nRoot Squared Mean Error Testing: 0.9257029440118905\n"
    }
   ],
   "source": [
    "# TESTING rum: predicted rating for user u of movie m\n",
    "i = 0\n",
    "predicted_ratings_testing = np.zeros(shape=test_size)\n",
    "for user, movie in test_indices:\n",
    "    predicted_ratings_testing[i] = average_rating + bias_user[user] + bias_movie[movie]\n",
    "    i+=1\n",
    "\n",
    "# Truncate predicted ratings by setting predictions that falls below 1 to 1\n",
    "#  and any prediction that exceeds 5 to 5\n",
    "predicted_ratings_testing[predicted_ratings_testing < 1] = 1\n",
    "predicted_ratings_testing[predicted_ratings_testing > 5] = 5\n",
    "\n",
    "print(\"Simple baseline solution\")\n",
    "print(\"Predicted Testing Ratings:\\n\", predicted_ratings_testing)\n",
    "print(\"Actual Testing Ratings:\\n\", test_ratings)\n",
    "\n",
    "# TESTING Root Mean Squared Error\n",
    "gradient_error_testing = test_ratings - predicted_ratings_testing\n",
    "print(\"\\nGradient Error Testing:\", gradient_error_testing)\n",
    "avg_gradient_error_testing = np.mean(test_ratings - predicted_ratings_testing)\n",
    "print(\"Average Gradient Error Testing:\\n\", avg_gradient_error_testing)\n",
    "rmse_testing = math.sqrt(sum((test_ratings - predicted_ratings_testing)**2) / test_size)\n",
    "print(\"Root Squared Mean Error Testing:\", rmse_testing)"
   ]
  },
  {
   "cell_type": "code",
   "execution_count": 24,
   "metadata": {},
   "outputs": [
    {
     "name": "stdout",
     "output_type": "stream",
     "text": "Matrix A:\n [[0. 0. 0. ... 0. 0. 0.]\n [0. 0. 0. ... 0. 0. 0.]\n [0. 0. 0. ... 0. 0. 0.]\n ...\n [0. 0. 0. ... 0. 0. 1.]\n [0. 0. 0. ... 0. 0. 1.]\n [0. 0. 0. ... 0. 0. 1.]]\n\nVector y:\n [-0.60665052 -2.60665052  0.39334948 ... -0.60665052 -0.60665052\n  0.39334948]\n\nLeast squared solutions (bias):\n [-0.19754469  0.25400514 -0.17869378 ... -0.47943225  0.22523022\n  0.75502689]\n"
    }
   ],
   "source": [
    "# TASK 1: ***LEAST SQUARE SOLUTION***\n",
    "\n",
    "matrix_A = np.zeros((train_size, nr_train_users + nr_train_movies))\n",
    "vector_y = np.zeros(train_size)\n",
    "\n",
    "for row, i in zip(train_indices, range(train_size)):\n",
    "    matrix_A[i, int(row[0])] = 1\n",
    "    matrix_A[i, int(row[1]) + nr_train_users] = 1\n",
    "    vector_y[i] = train_matrix[row[0], row[1]] - average_rating\n",
    "\n",
    "print(\"Matrix A:\\n\", matrix_A)\n",
    "print(\"\\nVector y:\\n\", vector_y)\n",
    "\n",
    "# Bias\n",
    "bias_lstsq, _, _, _ = np.linalg.lstsq(matrix_A, vector_y, rcond=1e-3)\n",
    "print(\"\\nLeast squared solutions (bias):\\n\", bias_lstsq)"
   ]
  },
  {
   "cell_type": "code",
   "execution_count": 31,
   "metadata": {},
   "outputs": [
    {
     "name": "stdout",
     "output_type": "stream",
     "text": "Least Squared Solution\nPredicted Training Ratings:\n [2.926481   3.17494391 3.22156063 ... 3.78964329 4.73287026 4.25806373]\nActual Training Ratings:\n [3 1 4 ... 3 3 4]\n\nGradient Error Training: [ 0.073519   -2.17494391  0.77843937 ... -0.78964329 -1.73287026\n -0.25806373]\nAverage Gradient Error Training:\n 0.0004761822560547787\nRoot Squared Mean Error Training: 0.8859758692598938\n"
    }
   ],
   "source": [
    "# TRAINING rum: predicted rating for user u of movie m\n",
    "predicted_ratings_training = np.zeros(shape=train_size)\n",
    "for user, movie, i in zip(train_indices[:, 0], train_indices[:, 1], range(train_size)):\n",
    "    predicted_ratings_training[i] = average_rating + bias_lstsq[user] + bias_lstsq[movie + nr_train_users]\n",
    "\n",
    "# Truncate predicted ratings by setting predictions that falls below 1 to 1\n",
    "#  and any prediction that exceeds 5 to 5\n",
    "predicted_ratings_training[predicted_ratings_training < 1] = 1\n",
    "predicted_ratings_training[predicted_ratings_training > 5] = 5\n",
    "\n",
    "print(\"Least Squared Solution\")\n",
    "print(\"Predicted Training Ratings:\\n\", predicted_ratings_training)\n",
    "print(\"Actual Training Ratings:\\n\", train_ratings)\n",
    "\n",
    "# TRAINING Root Mean Squared Error \n",
    "gradient_error_training = train_ratings - predicted_ratings_training\n",
    "print(\"\\nGradient Error Training:\", gradient_error_training)\n",
    "avg_gradient_error_training = np.mean(train_ratings - predicted_ratings_training)\n",
    "print(\"Average Gradient Error Training:\\n\", avg_gradient_error_training)\n",
    "rmse_training = math.sqrt(sum((train_ratings - predicted_ratings_training)**2) / train_size)\n",
    "print(\"Root Squared Mean Error Training:\", rmse_training)"
   ]
  },
  {
   "cell_type": "code",
   "execution_count": 32,
   "metadata": {},
   "outputs": [
    {
     "name": "stdout",
     "output_type": "stream",
     "text": "Least Squared Solution\nPredicted Testing Ratings:\n [3.66226549 2.14073463 3.11560797 ... 4.04612729 3.56584903 4.18088163]\nActual Testing Ratings:\n [5 3 4 ... 1 4 5]\n\nGradient Error Testing: [ 1.33773451  0.85926537  0.88439203 ... -3.04612729  0.43415097\n  0.81911837]\nAverage Gradient Error Testing:\n -0.00023389577710912534\nRoot Squared Mean Error Testing: 0.8975070398165736\n"
    }
   ],
   "source": [
    "# TESTING rum: predicted rating for user u of movie m\n",
    "predicted_ratings_testing = np.zeros(shape=test_size)\n",
    "for user, movie, i in zip(test_indices[:, 0], test_indices[:, 1], range(test_size)):\n",
    "    predicted_ratings_testing[i] = average_rating + bias_lstsq[user] + bias_lstsq[movie + nr_train_users]\n",
    "\n",
    "# Truncate predicted ratings by setting predictions that falls below 1 to 1\n",
    "#  and any prediction that exceeds 5 to 5\n",
    "predicted_ratings_testing[predicted_ratings_testing < 1] = 1\n",
    "predicted_ratings_testing[predicted_ratings_testing > 5] = 5\n",
    "\n",
    "print(\"Least Squared Solution\")\n",
    "print(\"Predicted Testing Ratings:\\n\", predicted_ratings_testing)\n",
    "print(\"Actual Testing Ratings:\\n\", test_ratings)\n",
    "\n",
    "# TESTING Root Mean Squared Error\n",
    "gradient_error_testing = test_ratings - predicted_ratings_testing\n",
    "print(\"\\nGradient Error Testing:\", gradient_error_testing)\n",
    "avg_gradient_error_testing = np.mean(test_ratings - predicted_ratings_testing)\n",
    "print(\"Average Gradient Error Testing:\\n\", avg_gradient_error_testing)\n",
    "rmse_testing = math.sqrt(sum((test_ratings - predicted_ratings_testing)**2) / test_size)\n",
    "print(\"Root Squared Mean Error Testing:\", rmse_testing)"
   ]
  },
  {
   "cell_type": "code",
   "execution_count": null,
   "metadata": {},
   "outputs": [],
   "source": []
  }
 ]
}